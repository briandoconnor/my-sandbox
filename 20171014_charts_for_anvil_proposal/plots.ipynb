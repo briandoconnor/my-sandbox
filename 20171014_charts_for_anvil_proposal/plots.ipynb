{
 "cells": [
  {
   "cell_type": "markdown",
   "metadata": {},
   "source": [
    "## Overview\n",
    "\n",
    "A place to make plots for AnVIL."
   ]
  },
  {
   "cell_type": "code",
   "execution_count": 13,
   "metadata": {},
   "outputs": [
    {
     "name": "stdout",
     "output_type": "stream",
     "text": [
      "                                       Project     WGS    WES  \\\n",
      "0                                 1000 Genomes    3775      0   \n",
      "1                                       eMERGE    1800   3745   \n",
      "2                                         GTEx     652    610   \n",
      "3                                       ENCODE       0      0   \n",
      "4   Centers for Common Disease Genomics (CCDG)  200000      0   \n",
      "5         Centers for Mendelian Genomics (CMG)       0  20000   \n",
      "6                                          HCA       0      0   \n",
      "7                             All of Us (AoU)    80000      0   \n",
      "8                      Million Veterns Program    2000  28000   \n",
      "9                                       TOPMed  100000      0   \n",
      "10          Gabriella Miller Kids First (GMKF)   50000      0   \n",
      "11                                        TCGA    2500  10544   \n",
      "12                                      TARGET       0    281   \n",
      "13                                        ICGC    5000      0   \n",
      "\n",
      "    Genotyping Array  mRNA array     RNA-seq  scRNA-seq  miRNA-seq  \\\n",
      "0                  0           0           0          0          0   \n",
      "1                  0           0           0          0          0   \n",
      "2                651         837       13142          0          0   \n",
      "3                  0           0           0          0          0   \n",
      "4                  0           0           0          0          0   \n",
      "5                  0           0           0          0          0   \n",
      "6                  0           0  1000000000          0          0   \n",
      "7                  0           0           0          0          0   \n",
      "8                  0           0           0          0          0   \n",
      "9                  0           0           0          0          0   \n",
      "10                 0           0           0          0          0   \n",
      "11             10995           0       10239          0      10185   \n",
      "12                 0           0         457          0        436   \n",
      "13                 0           0           0          0          0   \n",
      "\n",
      "    Methylation Array  ChIP-seq  Panels  Imaging  CNV genotypes  Unknown  \\\n",
      "0                   0         0       0        0              0        0   \n",
      "1                   0         0       0        0              0        0   \n",
      "2                   0         0    1093        0            180        0   \n",
      "3                   0      7813       0        0              0        0   \n",
      "4                   0         0       0        0              0        0   \n",
      "5                   0         0       0        0              0        0   \n",
      "6                   0         0       0        0              0        0   \n",
      "7                   0         0       0        0              0  1000000   \n",
      "8                   0         0       0        0              0   450000   \n",
      "9                   0         0       0        0              0        0   \n",
      "10                  0         0       0        0              0        0   \n",
      "11              10943         0       0        0              0        0   \n",
      "12                  0         0       0        0              0        0   \n",
      "13                  0         0       0        0              0        0   \n",
      "\n",
      "    Dataset Size TB  \n",
      "0             712.0  \n",
      "1             515.1  \n",
      "2             818.8  \n",
      "3             381.5  \n",
      "4           36914.1  \n",
      "5             976.6  \n",
      "6           50000.0  \n",
      "7           14765.6  \n",
      "8            1736.3  \n",
      "9           18457.0  \n",
      "10           9228.5  \n",
      "11           1789.9  \n",
      "12             40.3  \n",
      "13            922.9  \n",
      "['WGS', 'WES', 'Genotyping Array', 'mRNA array', 'RNA-seq', 'scRNA-seq', 'miRNA-seq', 'Methylation Array', 'ChIP-seq', 'Panels', 'Imaging', 'CNV genotypes', 'Unknown']\n"
     ]
    },
    {
     "ename": "ValueError",
     "evalue": "'label' must be of length 'x'",
     "output_type": "error",
     "traceback": [
      "\u001b[0;31m---------------------------------------------------------------------------\u001b[0m",
      "\u001b[0;31mValueError\u001b[0m                                Traceback (most recent call last)",
      "\u001b[0;32m<ipython-input-13-12c7a985cc28>\u001b[0m in \u001b[0;36m<module>\u001b[0;34m()\u001b[0m\n\u001b[1;32m     29\u001b[0m \u001b[0mplt\u001b[0m\u001b[0;34m.\u001b[0m\u001b[0msubplot\u001b[0m\u001b[0;34m(\u001b[0m\u001b[0mthe_grid\u001b[0m\u001b[0;34m[\u001b[0m\u001b[0;36m0\u001b[0m\u001b[0;34m,\u001b[0m \u001b[0;36m0\u001b[0m\u001b[0;34m]\u001b[0m\u001b[0;34m,\u001b[0m \u001b[0maspect\u001b[0m\u001b[0;34m=\u001b[0m\u001b[0;36m1\u001b[0m\u001b[0;34m)\u001b[0m\u001b[0;34m\u001b[0m\u001b[0m\n\u001b[1;32m     30\u001b[0m \u001b[0;34m\u001b[0m\u001b[0m\n\u001b[0;32m---> 31\u001b[0;31m \u001b[0mplt\u001b[0m\u001b[0;34m.\u001b[0m\u001b[0mpie\u001b[0m\u001b[0;34m(\u001b[0m\u001b[0mfracs\u001b[0m\u001b[0;34m,\u001b[0m \u001b[0mlabels\u001b[0m\u001b[0;34m=\u001b[0m\u001b[0mlabels\u001b[0m\u001b[0;34m,\u001b[0m \u001b[0mautopct\u001b[0m\u001b[0;34m=\u001b[0m\u001b[0;34m'%1.1f%%'\u001b[0m\u001b[0;34m,\u001b[0m \u001b[0mshadow\u001b[0m\u001b[0;34m=\u001b[0m\u001b[0;32mTrue\u001b[0m\u001b[0;34m)\u001b[0m\u001b[0;34m\u001b[0m\u001b[0m\n\u001b[0m\u001b[1;32m     32\u001b[0m \u001b[0;34m\u001b[0m\u001b[0m\n\u001b[1;32m     33\u001b[0m \u001b[0mplt\u001b[0m\u001b[0;34m.\u001b[0m\u001b[0msubplot\u001b[0m\u001b[0;34m(\u001b[0m\u001b[0mthe_grid\u001b[0m\u001b[0;34m[\u001b[0m\u001b[0;36m0\u001b[0m\u001b[0;34m,\u001b[0m \u001b[0;36m1\u001b[0m\u001b[0;34m]\u001b[0m\u001b[0;34m,\u001b[0m \u001b[0maspect\u001b[0m\u001b[0;34m=\u001b[0m\u001b[0;36m1\u001b[0m\u001b[0;34m)\u001b[0m\u001b[0;34m\u001b[0m\u001b[0m\n",
      "\u001b[0;32m//anaconda/envs/python3-anvil/lib/python3.6/site-packages/matplotlib/pyplot.py\u001b[0m in \u001b[0;36mpie\u001b[0;34m(x, explode, labels, colors, autopct, pctdistance, shadow, labeldistance, startangle, radius, counterclock, wedgeprops, textprops, center, frame, hold, data)\u001b[0m\n\u001b[1;32m   3294\u001b[0m                      \u001b[0mradius\u001b[0m\u001b[0;34m=\u001b[0m\u001b[0mradius\u001b[0m\u001b[0;34m,\u001b[0m \u001b[0mcounterclock\u001b[0m\u001b[0;34m=\u001b[0m\u001b[0mcounterclock\u001b[0m\u001b[0;34m,\u001b[0m\u001b[0;34m\u001b[0m\u001b[0m\n\u001b[1;32m   3295\u001b[0m                      \u001b[0mwedgeprops\u001b[0m\u001b[0;34m=\u001b[0m\u001b[0mwedgeprops\u001b[0m\u001b[0;34m,\u001b[0m \u001b[0mtextprops\u001b[0m\u001b[0;34m=\u001b[0m\u001b[0mtextprops\u001b[0m\u001b[0;34m,\u001b[0m \u001b[0mcenter\u001b[0m\u001b[0;34m=\u001b[0m\u001b[0mcenter\u001b[0m\u001b[0;34m,\u001b[0m\u001b[0;34m\u001b[0m\u001b[0m\n\u001b[0;32m-> 3296\u001b[0;31m                      frame=frame, data=data)\n\u001b[0m\u001b[1;32m   3297\u001b[0m     \u001b[0;32mfinally\u001b[0m\u001b[0;34m:\u001b[0m\u001b[0;34m\u001b[0m\u001b[0m\n\u001b[1;32m   3298\u001b[0m         \u001b[0max\u001b[0m\u001b[0;34m.\u001b[0m\u001b[0m_hold\u001b[0m \u001b[0;34m=\u001b[0m \u001b[0mwashold\u001b[0m\u001b[0;34m\u001b[0m\u001b[0m\n",
      "\u001b[0;32m//anaconda/envs/python3-anvil/lib/python3.6/site-packages/matplotlib/__init__.py\u001b[0m in \u001b[0;36minner\u001b[0;34m(ax, *args, **kwargs)\u001b[0m\n\u001b[1;32m   1896\u001b[0m                     warnings.warn(msg % (label_namer, func.__name__),\n\u001b[1;32m   1897\u001b[0m                                   RuntimeWarning, stacklevel=2)\n\u001b[0;32m-> 1898\u001b[0;31m             \u001b[0;32mreturn\u001b[0m \u001b[0mfunc\u001b[0m\u001b[0;34m(\u001b[0m\u001b[0max\u001b[0m\u001b[0;34m,\u001b[0m \u001b[0;34m*\u001b[0m\u001b[0margs\u001b[0m\u001b[0;34m,\u001b[0m \u001b[0;34m**\u001b[0m\u001b[0mkwargs\u001b[0m\u001b[0;34m)\u001b[0m\u001b[0;34m\u001b[0m\u001b[0m\n\u001b[0m\u001b[1;32m   1899\u001b[0m         \u001b[0mpre_doc\u001b[0m \u001b[0;34m=\u001b[0m \u001b[0minner\u001b[0m\u001b[0;34m.\u001b[0m\u001b[0m__doc__\u001b[0m\u001b[0;34m\u001b[0m\u001b[0m\n\u001b[1;32m   1900\u001b[0m         \u001b[0;32mif\u001b[0m \u001b[0mpre_doc\u001b[0m \u001b[0;32mis\u001b[0m \u001b[0;32mNone\u001b[0m\u001b[0;34m:\u001b[0m\u001b[0;34m\u001b[0m\u001b[0m\n",
      "\u001b[0;32m//anaconda/envs/python3-anvil/lib/python3.6/site-packages/matplotlib/axes/_axes.py\u001b[0m in \u001b[0;36mpie\u001b[0;34m(self, x, explode, labels, colors, autopct, pctdistance, shadow, labeldistance, startangle, radius, counterclock, wedgeprops, textprops, center, frame)\u001b[0m\n\u001b[1;32m   2581\u001b[0m             \u001b[0mexplode\u001b[0m \u001b[0;34m=\u001b[0m \u001b[0;34m[\u001b[0m\u001b[0;36m0\u001b[0m\u001b[0;34m]\u001b[0m \u001b[0;34m*\u001b[0m \u001b[0mlen\u001b[0m\u001b[0;34m(\u001b[0m\u001b[0mx\u001b[0m\u001b[0;34m)\u001b[0m\u001b[0;34m\u001b[0m\u001b[0m\n\u001b[1;32m   2582\u001b[0m         \u001b[0;32mif\u001b[0m \u001b[0mlen\u001b[0m\u001b[0;34m(\u001b[0m\u001b[0mx\u001b[0m\u001b[0;34m)\u001b[0m \u001b[0;34m!=\u001b[0m \u001b[0mlen\u001b[0m\u001b[0;34m(\u001b[0m\u001b[0mlabels\u001b[0m\u001b[0;34m)\u001b[0m\u001b[0;34m:\u001b[0m\u001b[0;34m\u001b[0m\u001b[0m\n\u001b[0;32m-> 2583\u001b[0;31m             \u001b[0;32mraise\u001b[0m \u001b[0mValueError\u001b[0m\u001b[0;34m(\u001b[0m\u001b[0;34m\"'label' must be of length 'x'\"\u001b[0m\u001b[0;34m)\u001b[0m\u001b[0;34m\u001b[0m\u001b[0m\n\u001b[0m\u001b[1;32m   2584\u001b[0m         \u001b[0;32mif\u001b[0m \u001b[0mlen\u001b[0m\u001b[0;34m(\u001b[0m\u001b[0mx\u001b[0m\u001b[0;34m)\u001b[0m \u001b[0;34m!=\u001b[0m \u001b[0mlen\u001b[0m\u001b[0;34m(\u001b[0m\u001b[0mexplode\u001b[0m\u001b[0;34m)\u001b[0m\u001b[0;34m:\u001b[0m\u001b[0;34m\u001b[0m\u001b[0m\n\u001b[1;32m   2585\u001b[0m             \u001b[0;32mraise\u001b[0m \u001b[0mValueError\u001b[0m\u001b[0;34m(\u001b[0m\u001b[0;34m\"'explode' must be of length 'x'\"\u001b[0m\u001b[0;34m)\u001b[0m\u001b[0;34m\u001b[0m\u001b[0m\n",
      "\u001b[0;31mValueError\u001b[0m: 'label' must be of length 'x'"
     ]
    },
    {
     "data": {
      "image/png": "[encoded data removed]",
      "text/plain": [
       "<matplotlib.figure.Figure at 0x119264b00>"
      ]
     },
     "metadata": {},
     "output_type": "display_data"
    }
   ],
   "source": [
    "# imports\n",
    "import pandas as pd\n",
    "import matplotlib.pyplot as plt\n",
    "from matplotlib.gridspec import GridSpec\n",
    "import urllib.parse\n",
    "import urllib.request\n",
    "import json\n",
    "\n",
    "# this allows plots to appear directly in the notebook\n",
    "%matplotlib inline\n",
    "\n",
    "# Some data\n",
    "\n",
    "data = pd.read_csv('datasets.tsv', sep='\\t')\n",
    "print(data)\n",
    "\n",
    "labels = 'Frogs', 'Hogs', 'Dogs', 'Logs'\n",
    "labels = list(data.columns.values)\n",
    "labels = labels[1:14]\n",
    "print(labels)\n",
    "fracs = [15, 30, 45, 10]\n",
    "fracs = \n",
    "\n",
    "explode = (0, 0.05, 0, 0)\n",
    "\n",
    "# Make square figures and axes\n",
    "\n",
    "the_grid = GridSpec(2, 2)\n",
    "\n",
    "plt.subplot(the_grid[0, 0], aspect=1)\n",
    "\n",
    "plt.pie(fracs, labels=labels, autopct='%1.1f%%', shadow=True)\n",
    "\n",
    "plt.subplot(the_grid[0, 1], aspect=1)\n",
    "\n",
    "plt.pie(fracs, explode=explode, labels=labels, autopct='%.0f%%', shadow=True)\n",
    "\n",
    "plt.subplot(the_grid[1, 0], aspect=1)\n",
    "\n",
    "patches, texts, autotexts = plt.pie(fracs, labels=labels,\n",
    "                                    autopct='%.0f%%',\n",
    "                                    shadow=True, radius=0.5)\n",
    "                                    \n",
    "plt.subplot(the_grid[1, 1], aspect=1)\n",
    "\n",
    "# Turn off shadow for tiny plot with exploded slice.\n",
    "patches, texts, autotexts = plt.pie(fracs, explode=explode,\n",
    "                                    labels=labels, autopct='%.0f%%',\n",
    "                                    shadow=False, radius=0.5)"
   ]
  },
  {
   "cell_type": "code",
   "execution_count": null,
   "metadata": {
    "collapsed": true
   },
   "outputs": [],
   "source": []
  }
 ],
 "metadata": {
  "kernelspec": {
   "display_name": "Python 3",
   "language": "python",
   "name": "python3"
  },
  "language_info": {
   "codemirror_mode": {
    "name": "ipython",
    "version": 3
   },
   "file_extension": ".py",
   "mimetype": "text/x-python",
   "name": "python",
   "nbconvert_exporter": "python",
   "pygments_lexer": "ipython3",
   "version": "3.6.1"
  }
 },
 "nbformat": 4,
 "nbformat_minor": 2
}
